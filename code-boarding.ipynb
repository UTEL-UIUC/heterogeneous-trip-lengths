{
 "cells": [
  {
   "cell_type": "code",
   "execution_count": 2,
   "metadata": {},
   "outputs": [],
   "source": [
    "import numpy as np\n",
    "from numpy import exp\n",
    "import matplotlib.pyplot as plt\n",
    "from scipy.optimize import minimize,root\n",
    "from scipy.integrate import quad\n",
    "import pandas as pd\n",
    "import tikzplotlib\n",
    "plt.rcParams['text.usetex'] = True\n",
    "np.set_printoptions(precision=4)"
   ]
  },
  {
   "cell_type": "code",
   "execution_count": 3,
   "metadata": {},
   "outputs": [
    {
     "name": "stdout",
     "output_type": "stream",
     "text": [
      "\\begin{tabular}{rrrrrrrrr}\n",
      "\\toprule\n",
      "    s &     Q &      K &  xbar &    U &    H &    B &  R/B &    L \\\\\n",
      "\\midrule\n",
      "300.0 & 400.0 & 1004.0 &  2.51 & 5.16 & 12.0 & 4.30 & 2.33 & 20.1 \\\\\n",
      "475.0 & 445.0 & 1292.0 &  2.91 & 4.40 & 12.0 & 3.66 & 2.73 & 25.8 \\\\\n",
      "583.0 & 434.0 & 1329.0 &  3.06 & 4.12 & 12.0 & 3.44 & 2.91 & 26.6 \\\\\n",
      "\\bottomrule\n",
      "\\end{tabular}\n",
      "\n"
     ]
    },
    {
     "data": {
      "text/html": [
       "<div>\n",
       "<style scoped>\n",
       "    .dataframe tbody tr th:only-of-type {\n",
       "        vertical-align: middle;\n",
       "    }\n",
       "\n",
       "    .dataframe tbody tr th {\n",
       "        vertical-align: top;\n",
       "    }\n",
       "\n",
       "    .dataframe thead th {\n",
       "        text-align: right;\n",
       "    }\n",
       "</style>\n",
       "<table border=\"1\" class=\"dataframe\">\n",
       "  <thead>\n",
       "    <tr style=\"text-align: right;\">\n",
       "      <th></th>\n",
       "      <th>s</th>\n",
       "      <th>Q</th>\n",
       "      <th>K</th>\n",
       "      <th>xbar</th>\n",
       "      <th>U</th>\n",
       "      <th>H</th>\n",
       "      <th>B</th>\n",
       "      <th>R/B</th>\n",
       "      <th>L</th>\n",
       "    </tr>\n",
       "  </thead>\n",
       "  <tbody>\n",
       "    <tr>\n",
       "      <th>0</th>\n",
       "      <td>300.0</td>\n",
       "      <td>400.0</td>\n",
       "      <td>1004.0</td>\n",
       "      <td>2.51</td>\n",
       "      <td>5.16</td>\n",
       "      <td>12.0</td>\n",
       "      <td>4.30</td>\n",
       "      <td>2.33</td>\n",
       "      <td>20.1</td>\n",
       "    </tr>\n",
       "    <tr>\n",
       "      <th>1</th>\n",
       "      <td>475.0</td>\n",
       "      <td>445.0</td>\n",
       "      <td>1292.0</td>\n",
       "      <td>2.91</td>\n",
       "      <td>4.40</td>\n",
       "      <td>12.0</td>\n",
       "      <td>3.66</td>\n",
       "      <td>2.73</td>\n",
       "      <td>25.8</td>\n",
       "    </tr>\n",
       "    <tr>\n",
       "      <th>2</th>\n",
       "      <td>583.0</td>\n",
       "      <td>434.0</td>\n",
       "      <td>1329.0</td>\n",
       "      <td>3.06</td>\n",
       "      <td>4.12</td>\n",
       "      <td>12.0</td>\n",
       "      <td>3.44</td>\n",
       "      <td>2.91</td>\n",
       "      <td>26.6</td>\n",
       "    </tr>\n",
       "  </tbody>\n",
       "</table>\n",
       "</div>"
      ],
      "text/plain": [
       "       s      Q       K  xbar     U     H     B   R/B     L\n",
       "0  300.0  400.0  1004.0  2.51  5.16  12.0  4.30  2.33  20.1\n",
       "1  475.0  445.0  1292.0  2.91  4.40  12.0  3.66  2.73  25.8\n",
       "2  583.0  434.0  1329.0  3.06  4.12  12.0  3.44  2.91  26.6"
      ]
     },
     "execution_count": 3,
     "metadata": {},
     "output_type": "execute_result"
    }
   ],
   "source": [
    "fb, fc = 2, 8\n",
    "rho = 200.\n",
    "R = 10.0;  beta = 20; H=12/60\n",
    "vb,vc,vw = 25.0,30.,3.0;\n",
    "gamma = 40/3600;\n",
    "theta = 4/3600;\n",
    "U = lambda s,q: 1./vb+gamma/s + H*q*theta/R\n",
    "T = lambda x, s, q: s/2/vw + H/2+x*U(s,q)\n",
    "Vb = lambda t: -beta*t - fb \n",
    "Vw = lambda x: -beta*x/vw\n",
    "Vc = lambda x: -beta*x/vc - fc\n",
    "Vs = lambda t,x: exp(Vw(x)) + exp(Vc(x)) + exp(Vb(t))\n",
    "Dw = lambda t,x: exp(Vw(x))/Vs(t,x)\n",
    "Dc = lambda t,x: exp(Vc(x))/Vs(t,x)\n",
    "Db = lambda t,x: exp(Vb(t))/Vs(t,x)\n",
    "B = lambda s: R*U(s,Q(s))/H\n",
    "\n",
    "def Q(s):\n",
    "    return root(lambda Q: quad(lambda x: rho*Db(T(x, s, Q[0]), x), 0, R)[0] - Q[0], x0=rho/2).x[0]\n",
    "def K(s):\n",
    "    q = Q(s)\n",
    "    return quad(lambda x: rho*x*Db(T(x,s,q), x), 0, R)[0]\n",
    "def Qc(s):\n",
    "    Qb = Q(s)\n",
    "    return quad(lambda x: rho*Dc(T(x,s,Qb),x),0,R)[0]\n",
    "def Qw(s):\n",
    "    Qb = Q(s)\n",
    "    return quad(lambda x: rho*Dw(T(x,s,Qb),x),0,R)[0]\n",
    "Qc, Qw, Q, K = [np.vectorize(x) for x in (Qc,Qw,Q,K)] \n",
    "sQ = minimize(lambda x: -Q(x), R/5,  bounds=[(0.001, R)]).x[0]\n",
    "sK = minimize(lambda x: -K(x), R/5, bounds=[(0.001, R)]).x[0]\n",
    "sarr = np.array([0.3,sQ,sK])\n",
    "df = pd.DataFrame({\n",
    "    's':sarr*1000,\n",
    "   'Q': Q(sarr), \n",
    "    'K': K(sarr),\n",
    "    'xbar':K(sarr)/Q(sarr),\n",
    "    'U':U(sarr,Q(sarr))*60,\n",
    "    'H': np.ones(sarr.size)*H*60,\n",
    "    'B': B(sarr),\n",
    "    'R/B':R/B(sarr),\n",
    "    'L': K(sarr)*H/R,\n",
    "}).round({'s':0, 'Q':0,'K':0,'xbar':2,'U':2,'B':2, 'L': 1, 'H': 2,'R/B':2})\n",
    "print(df.to_latex(index=False))\n",
    "df"
   ]
  },
  {
   "cell_type": "code",
   "execution_count": 52,
   "metadata": {},
   "outputs": [
    {
     "data": {
      "text/plain": [
       "Text(0.5, 0, '$s$ (km/stop)')"
      ]
     },
     "execution_count": 52,
     "metadata": {},
     "output_type": "execute_result"
    },
    {
     "data": {
      "image/png": "[encoded data removed]",
      "text/plain": [
       "<Figure size 252x144 with 1 Axes>"
      ]
     },
     "metadata": {
      "needs_background": "light"
     },
     "output_type": "display_data"
    }
   ],
   "source": [
    "fig,ax = plt.subplots(figsize=(3.5,2))\n",
    "sarr = np.linspace(0.01, 1.2, 100)\n",
    "Qarr = Q(sarr)\n",
    "Karr = K(sarr)\n",
    "ax.plot(sarr, Qarr/max(Qarr), label  = r'$Q/Q_{\\max}$')\n",
    "ax.plot(sarr, Karr/max(Karr), label  = r'$K/K_{\\max}$')\n",
    "ax.set_xlim(0, sarr[-1])\n",
    "ax.set_ylim(0, 1.1)\n",
    "ax.legend(frameon=False)\n",
    "ax.set_xlabel(r'$s$ (km/stop)')\n",
    "# tikzplotlib.save('qk-boarding.tex',figure=fig,standalone=True,axis_width='8cm',axis_height='5cm')"
   ]
  },
  {
   "cell_type": "code",
   "execution_count": 5,
   "metadata": {},
   "outputs": [
    {
     "data": {
      "image/png": "[encoded data removed]",
      "text/plain": [
       "<Figure size 432x288 with 1 Axes>"
      ]
     },
     "metadata": {
      "needs_background": "light"
     },
     "output_type": "display_data"
    }
   ],
   "source": [
    "fig,ax = plt.subplots()\n",
    "sarr = np.linspace(0.01, 1.5, 100)\n",
    "for (fun,mode) in [(Qw,'walk'),(Qc,'car'),(Q,'bus')]:\n",
    "    ax.plot(sarr,fun(sarr),label=mode)\n",
    "\n",
    "ax.set_xlim(0,sarr[-1]);ax.set_ylim(0,ax.get_ylim()[1])\n",
    "ax.legend(frameon=False);ax.spines['top'].set_visible(False);ax.spines['right'].set_visible(False)"
   ]
  },
  {
   "cell_type": "code",
   "execution_count": 10,
   "metadata": {},
   "outputs": [
    {
     "name": "stdout",
     "output_type": "stream",
     "text": [
      "0.00576424977898714\n"
     ]
    },
    {
     "data": {
      "image/png": "[encoded data removed]",
      "text/plain": [
       "<Figure size 432x288 with 1 Axes>"
      ]
     },
     "metadata": {
      "needs_background": "light"
     },
     "output_type": "display_data"
    }
   ],
   "source": [
    "fig,ax = plt.subplots()\n",
    "U = lambda s, q: 1/vb + gamma/s + H*q*theta/R\n",
    "ss = np.linspace(.01,1.2,50)\n",
    "qs = Q(ss)\n",
    "ax.plot(ss,U(ss,qs))\n",
    "ax.set_ylim([0,.2])\n",
    "ax.set_ylabel(r\"mode share\"); \n",
    "ax.set_xlabel(r\"trip length $x$ (km)\")\n",
    "print(H*Q(sK)/R*theta)"
   ]
  }
 ],
 "metadata": {
  "interpreter": {
   "hash": "40d3a090f54c6569ab1632332b64b2c03c39dcf918b08424e98f38b5ae0af88f"
  },
  "kernelspec": {
   "display_name": "Python 3 (ipykernel)",
   "language": "python",
   "name": "python3"
  },
  "language_info": {
   "codemirror_mode": {
    "name": "ipython",
    "version": 3
   },
   "file_extension": ".py",
   "mimetype": "text/x-python",
   "name": "python",
   "nbconvert_exporter": "python",
   "pygments_lexer": "ipython3",
   "version": "3.7.7"
  }
 },
 "nbformat": 4,
 "nbformat_minor": 2
}

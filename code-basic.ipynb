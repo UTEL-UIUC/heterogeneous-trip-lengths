{
 "cells": [
  {
   "cell_type": "code",
   "execution_count": 1,
   "metadata": {},
   "outputs": [],
   "source": [
    "import numpy as np\n",
    "from numpy import exp\n",
    "import matplotlib.pyplot as plt\n",
    "from scipy.optimize import minimize\n",
    "from scipy.integrate import quad\n",
    "plt.rcParams['text.usetex'] = True\n",
    "import tikzplotlib\n",
    "import pandas as pd\n",
    "from numpy import vectorize\n",
    "intocm = 2.54"
   ]
  },
  {
   "cell_type": "code",
   "execution_count": 91,
   "metadata": {},
   "outputs": [
    {
     "name": "stdout",
     "output_type": "stream",
     "text": [
      "\\begin{tabular}{rrrrrrrrr}\n",
      "\\toprule\n",
      "    s &     Q &      K &  xbar &    U &    H &    B &  R/B &    L \\\\\n",
      "\\midrule\n",
      "300.0 & 521.0 & 1494.0 &  2.87 & 4.62 & 12.0 & 3.85 & 2.60 & 29.9 \\\\\n",
      "542.0 & 653.0 & 2403.0 &  3.68 & 3.63 & 12.0 & 3.03 & 3.31 & 48.1 \\\\\n",
      "616.0 & 644.0 & 2448.0 &  3.80 & 3.48 & 12.0 & 2.90 & 3.45 & 49.0 \\\\\n",
      "\\bottomrule\n",
      "\\end{tabular}\n",
      "\n"
     ]
    },
    {
     "data": {
      "text/html": [
       "<div>\n",
       "<style scoped>\n",
       "    .dataframe tbody tr th:only-of-type {\n",
       "        vertical-align: middle;\n",
       "    }\n",
       "\n",
       "    .dataframe tbody tr th {\n",
       "        vertical-align: top;\n",
       "    }\n",
       "\n",
       "    .dataframe thead th {\n",
       "        text-align: right;\n",
       "    }\n",
       "</style>\n",
       "<table border=\"1\" class=\"dataframe\">\n",
       "  <thead>\n",
       "    <tr style=\"text-align: right;\">\n",
       "      <th></th>\n",
       "      <th>s</th>\n",
       "      <th>Q</th>\n",
       "      <th>K</th>\n",
       "      <th>xbar</th>\n",
       "      <th>U</th>\n",
       "      <th>H</th>\n",
       "      <th>B</th>\n",
       "      <th>R/B</th>\n",
       "      <th>L</th>\n",
       "    </tr>\n",
       "  </thead>\n",
       "  <tbody>\n",
       "    <tr>\n",
       "      <th>0</th>\n",
       "      <td>300.0</td>\n",
       "      <td>521.0</td>\n",
       "      <td>1494.0</td>\n",
       "      <td>2.87</td>\n",
       "      <td>4.62</td>\n",
       "      <td>12.0</td>\n",
       "      <td>3.85</td>\n",
       "      <td>2.60</td>\n",
       "      <td>29.9</td>\n",
       "    </tr>\n",
       "    <tr>\n",
       "      <th>1</th>\n",
       "      <td>542.0</td>\n",
       "      <td>653.0</td>\n",
       "      <td>2403.0</td>\n",
       "      <td>3.68</td>\n",
       "      <td>3.63</td>\n",
       "      <td>12.0</td>\n",
       "      <td>3.03</td>\n",
       "      <td>3.31</td>\n",
       "      <td>48.1</td>\n",
       "    </tr>\n",
       "    <tr>\n",
       "      <th>2</th>\n",
       "      <td>616.0</td>\n",
       "      <td>644.0</td>\n",
       "      <td>2448.0</td>\n",
       "      <td>3.80</td>\n",
       "      <td>3.48</td>\n",
       "      <td>12.0</td>\n",
       "      <td>2.90</td>\n",
       "      <td>3.45</td>\n",
       "      <td>49.0</td>\n",
       "    </tr>\n",
       "  </tbody>\n",
       "</table>\n",
       "</div>"
      ],
      "text/plain": [
       "       s      Q       K  xbar     U     H     B   R/B     L\n",
       "0  300.0  521.0  1494.0  2.87  4.62  12.0  3.85  2.60  29.9\n",
       "1  542.0  653.0  2403.0  3.68  3.63  12.0  3.03  3.31  48.1\n",
       "2  616.0  644.0  2448.0  3.80  3.48  12.0  2.90  3.45  49.0"
      ]
     },
     "execution_count": 91,
     "metadata": {},
     "output_type": "execute_result"
    }
   ],
   "source": [
    "fb, fc = 2, 8\n",
    "rho = 200.0\n",
    "R = 10.0; beta = 20; H = 12/60\n",
    "vb,vc,vw = 25.0,30.,3.0;\n",
    "gamma = 40/3600; \n",
    "U = lambda s: 1/vb + gamma/s\n",
    "T = lambda x, s: s/2/vw + H/2+x*U(s)\n",
    "Vw = lambda x: -beta*x/vw\n",
    "Vc = lambda x: -beta*x/vc - fc\n",
    "Vb = lambda x, s: -beta*T(x, s) - fb \n",
    "Vs = lambda x,s: exp(Vw(x)) + exp(Vc(x)) + exp(Vb(x, s))\n",
    "Dw = lambda x, s: exp(Vw(x))/Vs(x,s)\n",
    "Dc = lambda x, s: exp(Vc(x))/Vs(x,s)\n",
    "Db = lambda x, s: exp(Vb(x, s))/Vs(x,s)\n",
    "Q = np.vectorize(lambda s: quad(lambda x: rho*Db(x, s), 0, R)[0])\n",
    "K = np.vectorize(lambda s: quad(lambda x: rho*x*Db(x, s), 0, R)[0])\n",
    "Qc = vectorize(lambda s: quad(lambda x: rho*Dc(x, s), 0, R)[0])\n",
    "Qw = vectorize(lambda s: quad(lambda x: rho*Dw(x, s), 0, R)[0])\n",
    "sQ = minimize(lambda x: -Q(x), R/5,  bounds=[(0.001, R)]).x[0]\n",
    "sK = minimize(lambda x: -K(x), R/5, bounds=[(0.001, R)]).x[0]\n",
    "B = lambda s: R*U(s)/H\n",
    "sarr = np.array([0.3,sQ,sK])\n",
    "# print(sarr.size)\n",
    "df = pd.DataFrame({\n",
    "    's':sarr*1000,\n",
    "   'Q': Q(sarr), \n",
    "    'K': K(sarr),\n",
    "    'xbar':K(sarr)/Q(sarr),\n",
    "    'U':U(sarr)*60,\n",
    "    'H': np.ones(sarr.size)*H*60,\n",
    "    'B': B(sarr),\n",
    "    'R/B': R/B(sarr),\n",
    "    'L': K(sarr)*H/R,\n",
    "}).round({'s':0, 'Q':0,'K':0,'xbar':2,'U':2,'B':2, 'L': 1, 'H': 2, 'R/B':2})\n",
    "print(df.to_latex(index=False))\n",
    "df"
   ]
  },
  {
   "cell_type": "code",
   "execution_count": 65,
   "metadata": {},
   "outputs": [
    {
     "name": "stdout",
     "output_type": "stream",
     "text": [
      "0.5419028758289797 0.6156034470671498 13.600328495290993\n"
     ]
    },
    {
     "data": {
      "image/png": "[encoded data removed]",
      "text/plain": [
       "<Figure size 288x180 with 1 Axes>"
      ]
     },
     "metadata": {
      "needs_background": "light"
     },
     "output_type": "display_data"
    }
   ],
   "source": [
    "fig,ax = plt.subplots(figsize=(4,2.5))\n",
    "xarr = np.linspace(0.01, R, 200)\n",
    "for (fun,mode) in [(Dw,'walk'),(Dc,'car'),(Db,'bus')]:\n",
    "    ax.plot(xarr,fun(xarr,sQ),label=mode)\n",
    "ax.legend(frameon=False);ax.spines['right'].set_visible(False); ax.spines['top'].set_visible(False)\n",
    "ax.set_ylim([0,ax.get_ylim()[1]])\n",
    "ax.set_xlim([0,R])\n",
    "\n",
    "ax.set_ylabel(r\"mode share\"); ax.set_xlabel(r\"trip length $x$ (km)\")\n",
    "print(sQ, sK, (sK - sQ)*100/sQ)\n",
    "pd.DataFrame({'b':[Q(sK),Q(sQ)], 'c':[Qc(sK),Qc(sQ)],'w':[Qw(sK),Qw(sQ)]})/(R*rho)\n",
    "tikzplotlib.save('mode-share-nohw.tex',figure=fig,standalone=True,axis_width='8cm',axis_height='6cm')"
   ]
  },
  {
   "cell_type": "code",
   "execution_count": null,
   "metadata": {},
   "outputs": [],
   "source": [
    "print(np.array([sQ, sK, (sK - sQ)*100/sQ]))\n",
    "print('mode shares\\n',pd.DataFrame({'b':[Q(sK),Q(sQ)], 'c':[Qc(sK),Qc(sQ)],'w':[Qw(sK),Qw(sQ)]})/(R*rho))\n",
    "s0 = sK\n",
    "print('buses {:.3f}'.format(B(s0)))\n",
    "print('bus load {:.4f}'.format(K(s0)*H/R))\n",
    "print('demand {:.1f}'.format(Q(s0)))\n",
    "print('speed {:.1f}'.format( 1/U(s0,Q(s0))))\n",
    "print('min per kim {:.1f}'.format(U(s0,Q(s0))*60))\n",
    "print(H/R*theta*Q(s0)*60)\n",
    "print(gamma/s0*60)\n",
    "print('average trip length {:.2f}'.format(K(s0)/Q(s0)))"
   ]
  },
  {
   "cell_type": "code",
   "execution_count": 4,
   "metadata": {},
   "outputs": [
    {
     "data": {
      "image/png": "[encoded data removed]",
      "text/plain": [
       "<Figure size 226.772x141.732 with 1 Axes>"
      ]
     },
     "metadata": {
      "needs_background": "light"
     },
     "output_type": "display_data"
    }
   ],
   "source": [
    "fig,ax = plt.subplots(figsize=(8/intocm,5/intocm))\n",
    "sarr = np.linspace(0.01, 1.2, 50)\n",
    "Qarr = Q(sarr)\n",
    "Karr = K(sarr)\n",
    "ax.plot(sarr, Qarr/max(Qarr), label  = r'$Q/Q_{\\max}$')\n",
    "ax.plot(sarr, Karr/max(Karr), label  = r'$K/K_{\\max}$')\n",
    "ax.set_xlim(0, sarr[-1])\n",
    "ax.set_ylim(0, 1.1)\n",
    "ax.legend(frameon=False);ax.spines['right'].set_visible(False); ax.spines['top'].set_visible(False)\n",
    "ax.set_xlabel(r'$s$ (km/stop)')\n",
    "tikzplotlib.save('qk-nohw.tex',figure=fig,standalone=True,axis_width='8cm',axis_height='5cm')"
   ]
  },
  {
   "cell_type": "code",
   "execution_count": 17,
   "metadata": {},
   "outputs": [
    {
     "data": {
      "image/png": "[encoded data removed]",
      "text/plain": [
       "<Figure size 432x288 with 1 Axes>"
      ]
     },
     "metadata": {
      "needs_background": "light"
     },
     "output_type": "display_data"
    }
   ],
   "source": [
    "fig,ax = plt.subplots()\n",
    "sarr = np.linspace(0.01, 1.5, 100)\n",
    "for (fun,mode) in [(Dw,'walk'),(Dc,'car'),(Db,'bus')]:\n",
    "    ps = [quad(lambda x: fun(x,s),0,R)[0]/R for s in sarr]\n",
    "    ax.plot(sarr,ps,label=mode)\n",
    "ax.set_ylim(0,1.05)\n",
    "ax.set_xlim(0,sarr[-1])\n",
    "ax.legend(frameon=False)\n",
    "ax.spines['top'].set_visible(False)"
   ]
  }
 ],
 "metadata": {
  "interpreter": {
   "hash": "40d3a090f54c6569ab1632332b64b2c03c39dcf918b08424e98f38b5ae0af88f"
  },
  "kernelspec": {
   "display_name": "Python 3 (ipykernel)",
   "language": "python",
   "name": "python3"
  },
  "language_info": {
   "codemirror_mode": {
    "name": "ipython",
    "version": 3
   },
   "file_extension": ".py",
   "mimetype": "text/x-python",
   "name": "python",
   "nbconvert_exporter": "python",
   "pygments_lexer": "ipython3",
   "version": "3.7.7"
  }
 },
 "nbformat": 4,
 "nbformat_minor": 2
}
